{
 "cells": [
  {
   "cell_type": "code",
   "execution_count": 2,
   "metadata": {},
   "outputs": [],
   "source": [
    "# import sympy as sp\n",
    "import numpy as np\n",
    "import matplotlib.pyplot as plt"
   ]
  },
  {
   "cell_type": "markdown",
   "metadata": {},
   "source": [
    "### 1. Formulate the statement of the interpolation problem with Cubic Spline [mathematical formula]\n",
    "(Сформулируйте постановку задачи интерполяции кубическим сплайном)"
   ]
  },
  {
   "cell_type": "markdown",
   "metadata": {},
   "source": [
    "Задана сетка ($х_i$) и значения функции в звеньях сетки ($f(x_i)$). Необходимо построить функцию $U(x)$, способную вычислять $\\hat{f}(x)$, который к тому же в точках $x_i$ совпадает с оригинальной функцией. \n",
    "\n",
    "$$ U(x) = s_i(x), x \\in [x_{i-1}, x_i] $$\n",
    "where \n",
    "$$ s_i(x) = s_i(x_i) + s_i'(x_i)(x-x_i) + \\frac{s_i''(x_i)}{2}(x-x_i)^2 + \\frac{s_i'''(x_i)}{6}(x-x_i)^3 $$"
   ]
  },
  {
   "cell_type": "markdown",
   "metadata": {},
   "source": [
    "### 2. Formulate the functional and differential compatibility conditions [mathematical formula]\n",
    "(Сформулируйте условия функциональной и дифференциальной совместимости)"
   ]
  },
  {
   "attachments": {},
   "cell_type": "markdown",
   "metadata": {},
   "source": [
    "Из Киреева:\n",
    "\n",
    "Функциональные:\n",
    "\n",
    "$ S_{3,i}(x_i) - f(x_i) = 0 $\n",
    "\n",
    "$ S_{3,i}(x_{i+1}) - f(x_{i+1}) = 0 $\n",
    "\n",
    "<br>\n",
    "\n",
    "Дифференциальные:\n",
    "\n",
    "$ S_{3,i}''(x_i) - f''(x_i) = 0 $\n",
    "\n",
    "$ S_{3,i}''(x_{i+1}) - f''(x_{i+1}) = 0 $\n",
    "\n"
   ]
  },
  {
   "cell_type": "markdown",
   "metadata": {},
   "source": [
    "### 3. Formulate stitching conditions [mathematical formula]\n",
    "(Сформулируйте условия сшивки)"
   ]
  },
  {
   "attachments": {},
   "cell_type": "markdown",
   "metadata": {},
   "source": [
    "$ s_{i-1}'(x_{i-1}) = s_i'(x_{i-1}) $\n",
    "\n",
    "$ s_{i+1}'(x_{i}) = s_i'(x_{i}) $\n",
    "\n",
    "или (из Киреева):\n",
    "\n",
    "$$ S_{m,i-1}^{(p2)}(x_i) = S_{m,i}^{(p2)}(x_i), i = \\overline{1, n-1} $$\n",
    "\n",
    "N.B. Сшивка про интерполянты, предыдущие условия про интерполянт и про оригинальную функцию"
   ]
  },
  {
   "cell_type": "markdown",
   "metadata": {},
   "source": [
    "### 4. Justify why these conditions provide you with the required smoothness [thesis text, no more than 500 characters]\n",
    "(Объясните, почему эти условия обеспечивают вам необходимую гладкость)"
   ]
  },
  {
   "cell_type": "markdown",
   "metadata": {},
   "source": [
    "Кусочно-гладкая функция — функция, определённая на множестве вещественных чисел, дифференцируемая на каждом из интервалов, составляющих область определения\n",
    "\n",
    "Наши условия гарантируют гладкость минимум $ C^1 $, т.к. на отрезке $ (x_i, x_{i+1}) $ наша функция - полином 3й степени. На концах также на концах ввиду условию сшивки будет выполняться дифференциальное своейство кусочно-гладкой функции."
   ]
  },
  {
   "cell_type": "markdown",
   "metadata": {},
   "source": [
    "### 5. Derive dependency formula: the dependence of the second derivatives at the grid nodes on the increment of the function (the function values difference on the grid nodes). [Mathematical formulas derivation. Detailed, with clear transitions]\n",
    "(Выведите формулу зависимости: зависимость вторых производных в узлах сетки от приращения функции (разность значений функции на узлах сетки))"
   ]
  },
  {
   "cell_type": "markdown",
   "metadata": {},
   "source": [
    "Общая формула сплайна:\n",
    "\n",
    "$ S_i(x) = a_{0,i} + a_{1,i}(x-x_i) + a_{2,i}(x-x_i)^2 + a_{3,i}(x-x_i)^3 $\n",
    "\n",
    "<br>\n",
    "\n",
    "Его вторая производная:\n",
    "\n",
    "$ S_i''(x) = 2a_{2,i} + 6a_{3,i}(x-x_i) $\n",
    "\n",
    "<br>\n",
    "\n",
    "Из дифференциальных условий имеем (п.2):\n",
    "\n",
    "$ S_i''(x_i) = f''(x_i) $\n",
    "\n",
    "$ 2a_{2,i} + 6a_{3,i}(x_i - x_i) = f''(x_i) $\n",
    "\n",
    "$ 2a_{2,i} = f''(x_i) $\n",
    "\n",
    "<br>\n",
    "<br>\n",
    "\n",
    "$ S_i''(x_{i+1}) = f''(x_{i+1}) $\n",
    "\n",
    "$ 2a_{2,i} + 6a_{3,i}h_{i+1} = f''(x_i+1) $\n",
    "\n",
    "<br>\n",
    "<br>\n",
    "\n",
    "Также потребуется:\n",
    "\n",
    "$ S_i(x_i) = f(x_i) $\n",
    "\n",
    "$ a_{0,i} = f(x_i) $\n",
    "\n",
    "<br>\n",
    "<br>\n",
    "\n",
    "$ S_i(x_{i+1}) = f(x_{i+1}) $\n",
    "\n",
    "$ a_{0,i} + a_{1,i} h_{i+1} + a_{2,i}h_{i+1}^2 + a_{3,i}h_{i+1}^3 = f(x_{i+1}) $\n",
    "\n",
    "<br>\n",
    "<br>\n",
    "\n",
    "Выразим коэффициенты явно:\n",
    "\n",
    "1) $ a_{0,i} = f(x_i) $\n",
    "\n",
    "2) $  a_{2,i} = \\frac{f''(x_i)}{2} $\n",
    "\n",
    "3) $  a_{3,i} = \\frac{f''(x_{i+1}) - 2a_{2,i}}{6h_{i+1}} = \\frac{f''(x_{i+1}) - f''(x_i)}{6h_{i+1}} $\n",
    "\n",
    "4) $ a_{1,i} = \\frac{f(x_{i+1}) - a_{0,i} - a_{2,i}h_{i+1}^2 - a_{3,i}h_{i+1}^3}{h_{i+1}} =  \\frac{f(x_{i+1}) - f(x_i)}{h_{i+1}} - \\frac{f''(x_i)}{2}h_{i+1} - \\frac{f''(x_{i+1}) - f''(x_i)}{6}h_{i+1} $\n",
    "\n",
    "При $ h_{i+1} = x_{i+1} - x_i $\n",
    "\n",
    "# Но! нужно довести до формулы 4.72\n",
    "\n",
    "Выразим:\n",
    "\n",
    "$ S_i'(x) = a_{1,i} + 2a_{2,i}(x-x_i) + 3a_{3,i}(x-x_i)^2 $\n",
    "\n",
    "<br>\n",
    "\n",
    "Подставим в условие сшивки:\n",
    "\n",
    "$ S_i'(x_{i+1}) = S_{i+1}'(x_{i+1}) $\n",
    "\n",
    "$ a_{1,i} + 2a_{2,i}(x_{i+1}-x_i) + 3a_{3,i}(x_{i+1}-x_i)^2 = a_{1,i+1} $\n",
    "\n",
    "т.к. у нас шаг стабильный, то введём $ h = x_{i-1} - x_i $\n",
    "\n",
    "... (дальнейший вывод можно убиться писать в LaTeX (что собсно и не сделал Киреев), но у меня есть пруфы, что мы вывели на доске). Сводим все $m$ влево, остальную поднаготную вправо:\n",
    "\n",
    "$$ \\frac{m_i}{6}h + \\frac{2}{3}m_{i+1}h + \\frac{m_{i+2}}{6}h = \\frac{\\Delta f_{i+1}}{h} - \\frac{\\Delta f_{i}}{h} $$\n",
    "\n",
    "где $ \\Delta f_i = f(x_i) - f(x_{i-1}) $ "
   ]
  },
  {
   "cell_type": "markdown",
   "metadata": {},
   "source": [
    "### 6. Create a system of equations using this formula [Matrix representation. Mathematical formulas]"
   ]
  },
  {
   "attachments": {},
   "cell_type": "markdown",
   "metadata": {},
   "source": [
    "Общий вид тридиагональной матрицы:\n",
    "\n",
    "\\begin{equation*}\n",
    "A_1 = \n",
    "\\begin{pmatrix}\n",
    " -\\beta_1 & \\gamma_1 & 0 & 0 & ... & 0 & 0         & \\delta_1 \\\\ \n",
    " \\alpha_2 & -\\beta_2 & \\gamma_2 & 0 & ... & 0 & 0  & \\delta_2 \\\\  \n",
    " 0 & \\alpha_3 & -\\beta_3 & \\gamma_3  & ... & 0 & 0 & \\delta_3 \\\\  \n",
    " ... & ... & ... & ... &... &... &... &...\\\\\n",
    " 0 & 0 & ... & ... & ... & \\alpha_n & -\\beta_n & \\delta_n \\\\ \n",
    "\\end{pmatrix}\n",
    "\\vec{m}\n",
    "\\end{equation*}\n",
    "\n",
    "\n",
    "<br>\n",
    "Наша матрица:\n",
    "\\begin{equation*}\n",
    "A = \n",
    "\\begin{pmatrix}\n",
    " 4 h & h & 0     & ...\\\\ \n",
    "  h & 4h & h & ...\\\\ \n",
    " ... & ... & ... & ...\\\\\n",
    "... & ... & h & 4h\n",
    "\\end{pmatrix}\n",
    "\\vec{m}\n",
    "\\end{equation*}\n",
    "\n",
    "где $ \\vec{m}$  это $[m_1...m_{n-1}]$\n",
    "\n",
    "$$ A \\vec{m} = \\vec{\\delta} $$\n",
    "\n",
    "$$ \\delta_i = 6 \\frac{y_{i+1} - 2 y_i + f_{i-1}}{h} $$"
   ]
  },
  {
   "cell_type": "markdown",
   "metadata": {},
   "source": [
    "### 7. Explain what is an unknown variable in this system. whether the system is closed with respect to an unknown variable. What is missing for closure. [Text, no more than 200 characters]\n",
    "(Объясните, что такое неизвестная переменная в этой системе. \n",
    "является ли система закрытой по отношению к неизвестной переменной.\n",
    "Чего не хватает для закрытия?)"
   ]
  },
  {
   "cell_type": "markdown",
   "metadata": {},
   "source": [
    "Неизвестные переменные - это $a_{n,i}$, $n \\in {0,1,2,3}$. Т.к. они вычисляются из $ S_i(x_i)$ и $ S_i''(x_i) $, то уравнения позволяют найти 3N-2 из 3N условий. 2 пропадают, т.к. у нас не определена вторая производная в концевых точках (i=0, i=N). Эти значения беруться произвольно (обычно $ S_1(x_0) = 0 $ и $ S_{N}(x_N) = 0$)."
   ]
  },
  {
   "cell_type": "markdown",
   "metadata": {},
   "source": [
    "### 8. Bring this matrix to the appropriate form to use the Tridiagonal matrix algorithm [Mathematical derivation. Use Gauss Elimination]"
   ]
  },
  {
   "attachments": {},
   "cell_type": "markdown",
   "metadata": {},
   "source": [
    "Имея исходную матрицу, можно построить новую следующим образом:\n",
    "из матрицы 4*M при помощи исходной матрицы занулить нижнюю диагональ (начиная со второй строчки).\n",
    "\n",
    "Так мы получим явные коэффициенты. Приведя главную диагональ к единицам, получим матрицу как у Киреева:\n",
    "\n",
    "\\begin{equation*}\n",
    "\\hat{A} = \n",
    "\\begin{pmatrix}\n",
    " 1 & -P_1 & 0 & 0 & ...         & Q_1 \\\\ \n",
    " 0 & 1 & -P_2 & 0 & ...  & Q_2 \\\\  \n",
    " 0 & 0 & 1 & -P_3  & ... & Q_3 \\\\  \n",
    " ... & ... & ... & ... &... &... \\\\\n",
    " 0 & 0 & 0 & 1 & ...  & Q_n \\\\ \n",
    "\\end{pmatrix}\n",
    "\\end{equation*}\n",
    "\n",
    "Побочные формулы:\n",
    "\n",
    "$$ P_i = \\frac{\\gamma_i}{\\beta_i - \\alpha_iP_{i-1}}$$\n",
    "\n",
    "$$ Q_i = \\frac{\\alpha_i Q_{i-1} - \\delta_i}{\\beta_i - \\alpha_i P_{i-1}} $$"
   ]
  },
  {
   "cell_type": "markdown",
   "metadata": {},
   "source": [
    "### 9. Derive formulas of direct pass and reverse pass of Tridiagonal matrix algorithm [Mathematical formals]"
   ]
  },
  {
   "cell_type": "markdown",
   "metadata": {},
   "source": [
    "Имея матрицу $ \\hat{A} $, выражаем $ x_n = Q_n $. Тогда для $x_i$ справедливо \n",
    "$$x_i = P_i x_{i+1} + Q_i $$"
   ]
  },
  {
   "cell_type": "markdown",
   "metadata": {},
   "source": [
    "### 10. Implement code prototype of the future algorithm implementation. Classes/methods (if you use OOP), functions. The final implementation (on language chosen by you) should not differ from the functions declared in the prototype. [Python code]\n",
    "\n",
    "(Реализовать код-прототип будущей реализации алгоритма. \n",
    "Классы / методы (Если вы используете ООП), функции. \n",
    "Конечная реализация (на выбранном вами языке) не должна отличаться от функций, объявленных в прототипе)"
   ]
  },
  {
   "cell_type": "code",
   "execution_count": 73,
   "metadata": {},
   "outputs": [
    {
     "name": "stdout",
     "output_type": "stream",
     "text": [
      "2 2\n",
      "[0.0, -4.285714285714286, 5.142857142857142, -4.285714285714286, 0.0]\n",
      "0.7678571428571429\n"
     ]
    },
    {
     "data": {
      "text/plain": [
       "[0.0, -4.285714285714286, 5.142857142857143, -4.285714285714286, 0.0]"
      ]
     },
     "execution_count": 73,
     "metadata": {},
     "output_type": "execute_result"
    }
   ],
   "source": [
    "def cubic_spline(x, y):\n",
    "    \"\"\"\n",
    "    x,y - x_i and f(x_i) array-like collections. For now assumed that x_i+1 - x_i is constant h\n",
    "    \n",
    "    return approximation function (or object) \n",
    "    \"\"\"\n",
    "    h = x[1] - x[0]\n",
    "#     N = len(x)\n",
    "    \n",
    "    deltas = []\n",
    "    for i in range(1,len(x)-1):\n",
    "        deltas.append(6/h *(y[i+1] - 2*y[i] + y[i-1]))\n",
    "    gamma = h\n",
    "    beta  = -4*h\n",
    "    alpha = h\n",
    "    \n",
    "    N = len(deltas)\n",
    "    \n",
    "    P = [gamma/beta]\n",
    "    Q = [(-1) * deltas[0] / beta]\n",
    "    for i in range(1,N - 1):\n",
    "        P_prev = P[-1]\n",
    "        P.append(gamma / (beta - alpha * P_prev))\n",
    "        Q.append((alpha*Q[-1] - deltas[i]) / (beta - alpha*P_prev))\n",
    "        \n",
    "#     print(len(P), len(Q))\n",
    "    \n",
    "    m = [(alpha*Q[-1] - deltas[-1])/(beta - alpha*P[-1])] # x_n -> reversed\n",
    "    for i in range(N-2, -1, -1):\n",
    "        m.append(P[i] * m[-1] + Q[i])\n",
    "    m.append(0.0)\n",
    "    m = list(reversed(m))\n",
    "    m.append(0.0)\n",
    "        \n",
    "    return m\n",
    "    \n",
    "# Check on example from https://towardsdatascience.com/numerical-interpolation-natural-cubic-spline-52c1157b98ac\n",
    "# By the way there is mistake in original post in results that was fixed\n",
    "data = [(1, 0), (2, 1), (3, 0), (4,1), (5,0)]\n",
    "x = []\n",
    "y = []\n",
    "for i in data:\n",
    "    x.append(i[0])\n",
    "    y.append(i[1])\n",
    "    \n",
    "m = cubic_spline(x,y) \n",
    "print(m)\n",
    "\n",
    "def calculate(p, x, y, m):\n",
    "    \"\"\"\n",
    "    Need some params to generify\n",
    "    \"\"\"\n",
    "    i = 0\n",
    "    h = x[1] - x[0]\n",
    "    dx = p - x[i]\n",
    "    df = y[i+1] - y[i]\n",
    "    dm = m[i+1] - m[i]\n",
    "    res = y[i]\n",
    "    res += (df/h - h*m[i]/2 - h*dm/6)*dx\n",
    "    res += m[i]/2 * dx**2 + dm/6/h * dx**3\n",
    "    \n",
    "    return res\n",
    "    \n",
    "\n",
    "print(calculate(1.5, x, y, m)) ## 0.7679 expected\n",
    "    \n",
    "# Expected coefficients: \n",
    "[0.0, -30/7, 36/7, -30/7, 0.0]"
   ]
  },
  {
   "cell_type": "markdown",
   "metadata": {},
   "source": [
    "### 11. Derive formula of Cubic Spline method error [Mathematical formulas]"
   ]
  },
  {
   "attachments": {},
   "cell_type": "markdown",
   "metadata": {},
   "source": [
    "Из Киреева имеем тривиальные 2 левых равенства для промежутка сетки:\n",
    "\n",
    "$$ \\left \\| f^{(p)} (x) - S_3^{(p)} (x) \\right \\|_{C[a,b]} = \\max_{[a,b]} \\left | f^{(p)}(x) - S_3^{(p)}(x) \\right | \\leq M_4h^{4-p}, p=0,1,2 $$"
   ]
  },
  {
   "cell_type": "markdown",
   "metadata": {},
   "source": [
    "Правое чуть посложнее: оно говорит, что порядок апроксимации по мажоранте не понижается при апроксимации производных функции (он равен 4, что видимо взято из остаточного члена ряда), что нельзя сказать о порядке шага. К тому же он даёт ограничение сверху, а не равенство."
   ]
  },
  {
   "cell_type": "markdown",
   "metadata": {},
   "source": [
    "### 12. Rate the complexity of the algorithm [Text, and rate in terms of big O, no more than 100 characters]"
   ]
  },
  {
   "cell_type": "markdown",
   "metadata": {},
   "source": [
    " 2N - прогонка вперёд, назад. \n",
    " \n",
    " => сложность алгоритма O(N)"
   ]
  },
  {
   "cell_type": "markdown",
   "metadata": {},
   "source": [
    "### Congrats!"
   ]
  }
 ],
 "metadata": {
  "kernelspec": {
   "display_name": "Python 3",
   "language": "python",
   "name": "python3"
  },
  "language_info": {
   "codemirror_mode": {
    "name": "ipython",
    "version": 3
   },
   "file_extension": ".py",
   "mimetype": "text/x-python",
   "name": "python",
   "nbconvert_exporter": "python",
   "pygments_lexer": "ipython3",
   "version": "3.7.4"
  }
 },
 "nbformat": 4,
 "nbformat_minor": 2
}
