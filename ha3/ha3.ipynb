{
 "cells": [
  {
   "cell_type": "code",
   "execution_count": 1,
   "metadata": {},
   "outputs": [],
   "source": [
    "import sympy as sp\n",
    "import numpy as np\n",
    "import matplotlib.pyplot as plt"
   ]
  },
  {
   "cell_type": "markdown",
   "metadata": {},
   "source": [
    "### 1. Derive formula of $L_{2}(x)$ in terms of interpolation phase $ u = \\frac{x - x_{i}}{h} $.  Integrate $ \\hat{I}_{i}^{i+2}$ with received formula as integrand  [mathematical formula]. Usetimation time: ~30m"
   ]
  },
  {
   "cell_type": "markdown",
   "metadata": {},
   "source": [
    "**Note** Use constant step $h = const$ and condition *number of segments is even* $n = 2k$"
   ]
  },
  {
   "cell_type": "markdown",
   "metadata": {},
   "source": [
    "Имеем: \n",
    "\n",
    "$ L_2(x) = \\frac{(x - x_{i+1})(x - x_{i+2})}{(x_i - x_{i+1})(x_i - x_{i+2})} f_i + \n",
    "\\frac{(x - x_{i})(x - x_{i+2})}{(x_{i+1} - x_{i})(x_{i+1} - x_{i+2})} f_{i+1} + \n",
    "\\frac{(x - x_{i})(x - x_{i+1})}{(x_{i+2} - x_{i})(x_{i+2} - x_{i+1})} f_{i+2} $\n",
    "\n",
    "<br>\n",
    "\n",
    "Шаги, где $x_{i+1}$ выражается как $(x_{i} + h)$ и аналогично выражается $x_{i+2}$ пропущены. \n",
    "\n",
    "Вводим фазу: \n",
    "\n",
    "$ u = \\frac{x - x_{i}}{h} $\n",
    "\n",
    "<br>\n",
    "\n",
    "\n",
    "Подставляем фазу:\n",
    "\n",
    "$ L_2(u) =  \\frac{1}{2}(u^2 - 3u + 2)f_{i} + (2u - u^2)f_{i+1} + \\frac{1}{2}(u^2 - u)f_{i+2}  $\n",
    "\n",
    "<br>\n",
    "\n",
    "Выразим $dx$:\n",
    "\n",
    "$ dx = h du $\n",
    "\n",
    "<br>\n",
    "\n",
    "Интегрируем:\n",
    "\n",
    "$ \\hat{I}_{i}^{i+2} = \\int_{x_i}^{x_{i+2}}L_2(x) dx = \\int_{0}^{2}L_2(u) h du = \\left [ \\frac{1}{2}(\\frac{u^3}{3} - \\frac{3}{2}u^2 + 2u)f_{i} + (u^2 - \\frac{u^3}{3})f_{i+1} + \\frac{1}{2}(\\frac{u^3}{3} - \\frac{u^2}{2})f_{i+2} \\right ]h \\vert_{0}^{2} $\n",
    "\n",
    "<br>\n",
    "\n",
    "$ \\hat{I}_{i}^{i+2} = \\frac{h}{3}(f_i + 4 f_{i+1} + f_{i+2}) $"
   ]
  },
  {
   "cell_type": "markdown",
   "metadata": {},
   "source": [
    "### 2. Explain how used condition $n = 2k$ helps us in integration. If we want to use odd number of segments we have to integrate with even number of segments but add the value $I_{n-1}^n$. What is the calculation accuracy order of $I_{n-1}^n$? Why? Explain both. [mathematical formula]. Usetimation time: ~30m"
   ]
  },
  {
   "cell_type": "markdown",
   "metadata": {},
   "source": [
    "![](https://i.imgur.com/aTNte2M.png)"
   ]
  },
  {
   "cell_type": "markdown",
   "metadata": {},
   "source": [
    "Условие $n=2k$ позволяет вычислить площадь каждого сегмента используя лишь $\\hat{I}_{parab}$ (т.е. квадратурный многочлен 3го порядка, остаточный член которого $O(h^4)$ (см. пример на рисунке - чёрные сегменты - 2 сегмента, образованные 5ю точками сетки). \n",
    "\n",
    "Если же сегментов в нашей сетке нечётное количество, то остаточный сегмент (на рисунке красный) необходимо вычислить функцией, остаточный член которой не превышает $O(h^4)$. Это можно сделать используя одно из квадратурных уравнений (по всей видимости Эйлера-Маклорена или производной от них):\n",
    "\n",
    "$ \\hat{I}_{i, right}^{i+1} = \\frac{h}{24}(f_{i-2} - 5f_{i-1} + 19f_i + 9f_{i+1}), \\ O(h^5) $\n",
    "\n",
    "Почему не по формуле трапеции или подобным? Да потому что они обладают меньшей точностью ($ < O(h^4) $)\n",
    "\n",
    "<br>\n",
    "<br>\n",
    "\n",
    "*Примечание:*\n",
    "т.к. у нас 3х точечный шаблон, то мы не рассматриваем сетки <3х точек (первая сетка с чётным количеством сегментов). Первая нечётная сетка начинается с 4х точек, следовательно нам хватает точек, чтобы посчитать по формуле $\\hat{I}_{i, right}^{i+1}$"
   ]
  },
  {
   "cell_type": "markdown",
   "metadata": {},
   "source": [
    "### 3. Derive the formula of whole $\\hat{I_{a}^{b}}$. Summarize all integrals on segments $\\hat{I_{i}^{i+1}}$ for even case, and for odd case. [mathematical formula]. Usetimation time: ~30m"
   ]
  },
  {
   "cell_type": "markdown",
   "metadata": {},
   "source": [
    "$n$ - количество узлов сетки\n",
    "\n",
    "Если $n$ - нечётное:\n",
    "\n",
    "$ \\hat{I}_{a}^{b} = \\sum_{i=1}^{n} \\hat{I}_i^{i+2} $\n",
    "\n",
    "<br>\n",
    "\n",
    "Если $n$ - чётное:\n",
    "\n",
    "$ \\hat{I}_{a}^{b} = \\sum_{i=1}^{n-1} \\hat{I}_i^{i+2} + \\hat{I}_{n-1, right}^{n} $"
   ]
  },
  {
   "cell_type": "markdown",
   "metadata": {},
   "source": [
    "### 4. Derive the formula of trapezoid quadrature formula error estimation. Use Taylor series expansion for antiderivative $F_{i+1}$ and $f_{i+1}$  [mathematical formula] Usetimation time: ~30m"
   ]
  },
  {
   "cell_type": "markdown",
   "metadata": {},
   "source": [
    "![](https://i.imgur.com/3RbV4Qc.png)"
   ]
  },
  {
   "cell_type": "markdown",
   "metadata": {},
   "source": [
    "### Congrats!"
   ]
  }
 ],
 "metadata": {
  "kernelspec": {
   "display_name": "Python 3",
   "language": "python",
   "name": "python3"
  },
  "language_info": {
   "codemirror_mode": {
    "name": "ipython",
    "version": 3
   },
   "file_extension": ".py",
   "mimetype": "text/x-python",
   "name": "python",
   "nbconvert_exporter": "python",
   "pygments_lexer": "ipython3",
   "version": "3.7.4"
  }
 },
 "nbformat": 4,
 "nbformat_minor": 2
}
